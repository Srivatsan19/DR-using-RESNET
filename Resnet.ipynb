{
 "cells": [
  {
   "cell_type": "code",
   "execution_count": 3,
   "id": "45b7e2d7",
   "metadata": {},
   "outputs": [
    {
     "name": "stdout",
     "output_type": "stream",
     "text": [
      "Requirement already satisfied: tensorflow in c:\\users\\srivatsan\\anaconda3\\lib\\site-packages (2.9.1)\n",
      "Requirement already satisfied: astunparse>=1.6.0 in c:\\users\\srivatsan\\anaconda3\\lib\\site-packages (from tensorflow) (1.6.3)\n",
      "Requirement already satisfied: tensorflow-io-gcs-filesystem>=0.23.1 in c:\\users\\srivatsan\\anaconda3\\lib\\site-packages (from tensorflow) (0.26.0)\n",
      "Requirement already satisfied: typing-extensions>=3.6.6 in c:\\users\\srivatsan\\anaconda3\\lib\\site-packages (from tensorflow) (3.10.0.2)\n",
      "Requirement already satisfied: keras-preprocessing>=1.1.1 in c:\\users\\srivatsan\\anaconda3\\lib\\site-packages (from tensorflow) (1.1.2)\n",
      "Requirement already satisfied: absl-py>=1.0.0 in c:\\users\\srivatsan\\anaconda3\\lib\\site-packages (from tensorflow) (1.2.0)\n",
      "Requirement already satisfied: tensorboard<2.10,>=2.9 in c:\\users\\srivatsan\\anaconda3\\lib\\site-packages (from tensorflow) (2.9.1)\n",
      "Requirement already satisfied: termcolor>=1.1.0 in c:\\users\\srivatsan\\anaconda3\\lib\\site-packages (from tensorflow) (1.1.0)\n",
      "Requirement already satisfied: h5py>=2.9.0 in c:\\users\\srivatsan\\anaconda3\\lib\\site-packages (from tensorflow) (3.2.1)\n",
      "Requirement already satisfied: libclang>=13.0.0 in c:\\users\\srivatsan\\anaconda3\\lib\\site-packages (from tensorflow) (14.0.1)\n",
      "Requirement already satisfied: tensorflow-estimator<2.10.0,>=2.9.0rc0 in c:\\users\\srivatsan\\anaconda3\\lib\\site-packages (from tensorflow) (2.9.0)\n",
      "Requirement already satisfied: opt-einsum>=2.3.2 in c:\\users\\srivatsan\\anaconda3\\lib\\site-packages (from tensorflow) (3.3.0)\n",
      "Requirement already satisfied: google-pasta>=0.1.1 in c:\\users\\srivatsan\\anaconda3\\lib\\site-packages (from tensorflow) (0.2.0)\n",
      "Requirement already satisfied: keras<2.10.0,>=2.9.0rc0 in c:\\users\\srivatsan\\anaconda3\\lib\\site-packages (from tensorflow) (2.9.0)\n",
      "Requirement already satisfied: flatbuffers<2,>=1.12 in c:\\users\\srivatsan\\anaconda3\\lib\\site-packages (from tensorflow) (1.12)\n",
      "Requirement already satisfied: setuptools in c:\\users\\srivatsan\\anaconda3\\lib\\site-packages (from tensorflow) (58.0.4)\n",
      "Requirement already satisfied: numpy>=1.20 in c:\\users\\srivatsan\\anaconda3\\lib\\site-packages (from tensorflow) (1.20.3)\n",
      "Requirement already satisfied: gast<=0.4.0,>=0.2.1 in c:\\users\\srivatsan\\anaconda3\\lib\\site-packages (from tensorflow) (0.4.0)\n",
      "Requirement already satisfied: protobuf<3.20,>=3.9.2 in c:\\users\\srivatsan\\anaconda3\\lib\\site-packages (from tensorflow) (3.19.4)\n",
      "Requirement already satisfied: six>=1.12.0 in c:\\users\\srivatsan\\anaconda3\\lib\\site-packages (from tensorflow) (1.16.0)\n",
      "Requirement already satisfied: grpcio<2.0,>=1.24.3 in c:\\users\\srivatsan\\anaconda3\\lib\\site-packages (from tensorflow) (1.47.0)\n",
      "Requirement already satisfied: packaging in c:\\users\\srivatsan\\anaconda3\\lib\\site-packages (from tensorflow) (21.0)\n",
      "Requirement already satisfied: wrapt>=1.11.0 in c:\\users\\srivatsan\\anaconda3\\lib\\site-packages (from tensorflow) (1.12.1)\n",
      "Requirement already satisfied: wheel<1.0,>=0.23.0 in c:\\users\\srivatsan\\anaconda3\\lib\\site-packages (from astunparse>=1.6.0->tensorflow) (0.37.0)\n",
      "Requirement already satisfied: requests<3,>=2.21.0 in c:\\users\\srivatsan\\anaconda3\\lib\\site-packages (from tensorboard<2.10,>=2.9->tensorflow) (2.26.0)\n",
      "Requirement already satisfied: markdown>=2.6.8 in c:\\users\\srivatsan\\anaconda3\\lib\\site-packages (from tensorboard<2.10,>=2.9->tensorflow) (3.4.1)\n",
      "Requirement already satisfied: tensorboard-plugin-wit>=1.6.0 in c:\\users\\srivatsan\\anaconda3\\lib\\site-packages (from tensorboard<2.10,>=2.9->tensorflow) (1.8.1)\n",
      "Requirement already satisfied: google-auth<3,>=1.6.3 in c:\\users\\srivatsan\\anaconda3\\lib\\site-packages (from tensorboard<2.10,>=2.9->tensorflow) (2.9.1)\n",
      "Requirement already satisfied: tensorboard-data-server<0.7.0,>=0.6.0 in c:\\users\\srivatsan\\anaconda3\\lib\\site-packages (from tensorboard<2.10,>=2.9->tensorflow) (0.6.1)\n",
      "Requirement already satisfied: werkzeug>=1.0.1 in c:\\users\\srivatsan\\anaconda3\\lib\\site-packages (from tensorboard<2.10,>=2.9->tensorflow) (2.0.2)\n",
      "Requirement already satisfied: google-auth-oauthlib<0.5,>=0.4.1 in c:\\users\\srivatsan\\anaconda3\\lib\\site-packages (from tensorboard<2.10,>=2.9->tensorflow) (0.4.6)\n",
      "Requirement already satisfied: pyasn1-modules>=0.2.1 in c:\\users\\srivatsan\\anaconda3\\lib\\site-packages (from google-auth<3,>=1.6.3->tensorboard<2.10,>=2.9->tensorflow) (0.2.8)\n",
      "Requirement already satisfied: cachetools<6.0,>=2.0.0 in c:\\users\\srivatsan\\anaconda3\\lib\\site-packages (from google-auth<3,>=1.6.3->tensorboard<2.10,>=2.9->tensorflow) (5.2.0)\n",
      "Requirement already satisfied: rsa<5,>=3.1.4 in c:\\users\\srivatsan\\anaconda3\\lib\\site-packages (from google-auth<3,>=1.6.3->tensorboard<2.10,>=2.9->tensorflow) (4.8)\n",
      "Requirement already satisfied: requests-oauthlib>=0.7.0 in c:\\users\\srivatsan\\anaconda3\\lib\\site-packages (from google-auth-oauthlib<0.5,>=0.4.1->tensorboard<2.10,>=2.9->tensorflow) (1.3.1)\n",
      "Requirement already satisfied: importlib-metadata>=4.4 in c:\\users\\srivatsan\\anaconda3\\lib\\site-packages (from markdown>=2.6.8->tensorboard<2.10,>=2.9->tensorflow) (4.8.1)\n",
      "Requirement already satisfied: zipp>=0.5 in c:\\users\\srivatsan\\anaconda3\\lib\\site-packages (from importlib-metadata>=4.4->markdown>=2.6.8->tensorboard<2.10,>=2.9->tensorflow) (3.6.0)\n",
      "Requirement already satisfied: pyasn1<0.5.0,>=0.4.6 in c:\\users\\srivatsan\\anaconda3\\lib\\site-packages (from pyasn1-modules>=0.2.1->google-auth<3,>=1.6.3->tensorboard<2.10,>=2.9->tensorflow) (0.4.8)\n",
      "Requirement already satisfied: urllib3<1.27,>=1.21.1 in c:\\users\\srivatsan\\anaconda3\\lib\\site-packages (from requests<3,>=2.21.0->tensorboard<2.10,>=2.9->tensorflow) (1.26.7)\n",
      "Requirement already satisfied: idna<4,>=2.5 in c:\\users\\srivatsan\\anaconda3\\lib\\site-packages (from requests<3,>=2.21.0->tensorboard<2.10,>=2.9->tensorflow) (3.2)\n",
      "Requirement already satisfied: charset-normalizer~=2.0.0 in c:\\users\\srivatsan\\anaconda3\\lib\\site-packages (from requests<3,>=2.21.0->tensorboard<2.10,>=2.9->tensorflow) (2.0.4)\n",
      "Requirement already satisfied: certifi>=2017.4.17 in c:\\users\\srivatsan\\anaconda3\\lib\\site-packages (from requests<3,>=2.21.0->tensorboard<2.10,>=2.9->tensorflow) (2021.10.8)\n",
      "Requirement already satisfied: oauthlib>=3.0.0 in c:\\users\\srivatsan\\anaconda3\\lib\\site-packages (from requests-oauthlib>=0.7.0->google-auth-oauthlib<0.5,>=0.4.1->tensorboard<2.10,>=2.9->tensorflow) (3.2.0)\n",
      "Requirement already satisfied: pyparsing>=2.0.2 in c:\\users\\srivatsan\\anaconda3\\lib\\site-packages (from packaging->tensorflow) (3.0.4)\n",
      "Note: you may need to restart the kernel to use updated packages.\n"
     ]
    }
   ],
   "source": [
    "pip install tensorflow"
   ]
  },
  {
   "cell_type": "code",
   "execution_count": 49,
   "id": "52913f05",
   "metadata": {},
   "outputs": [
    {
     "name": "stdout",
     "output_type": "stream",
     "text": [
      "Collecting pydotNote: you may need to restart the kernel to use updated packages.\n",
      "  Downloading pydot-1.4.2-py2.py3-none-any.whl (21 kB)\n",
      "Requirement already satisfied: pyparsing>=2.1.4 in c:\\users\\srivatsan\\anaconda3\\lib\\site-packages (from pydot) (3.0.4)\n",
      "Installing collected packages: pydot\n",
      "Successfully installed pydot-1.4.2\n",
      "\n"
     ]
    }
   ],
   "source": [
    "pip install pydot"
   ]
  },
  {
   "cell_type": "code",
   "execution_count": 16,
   "id": "553a4f4e",
   "metadata": {},
   "outputs": [],
   "source": [
    "import numpy as np \n",
    "import pandas as pd \n",
    "import os\n",
    "import matplotlib.pyplot as plt\n",
    "from tqdm import tqdm\n",
    "from tensorflow.keras.preprocessing import image\n",
    "from tensorflow.keras.utils import to_categorical\n",
    "from keras.models import Sequential\n",
    "from keras.layers import Dense, Flatten\n",
    "from sklearn.model_selection import train_test_split"
   ]
  },
  {
   "cell_type": "code",
   "execution_count": 17,
   "id": "945f9da1",
   "metadata": {},
   "outputs": [],
   "source": [
    "def image_files(input_directory):\n",
    "    filepaths=[]\n",
    "    labels=[]\n",
    "    \n",
    "    digit_folders=os.listdir(input_directory)\n",
    "    #print(digit_folders)\n",
    "    \n",
    "    for digit in digit_folders:\n",
    "        path=os.path.join(input_directory, digit)\n",
    "        flist=os.listdir(path)\n",
    "        for f in flist:\n",
    "            fpath=os.path.join(path,f)        \n",
    "            filepaths.append(fpath)\n",
    "            labels.append(digit) \n",
    "    return filepaths,labels\n",
    "\n",
    "def load_images(filepaths):\n",
    "    images = []\n",
    "    for i in tqdm(range(len(filepaths))):\n",
    "        img = image.load_img(filepaths[i], target_size=(244,244,3), grayscale=False)\n",
    "        img = image.img_to_array(img)\n",
    "        img.astype('float32')\n",
    "        img = img/255\n",
    "        images.append(img)\n",
    "\n",
    "    images = np.array(images)\n",
    "    return images"
   ]
  },
  {
   "cell_type": "code",
   "execution_count": 18,
   "id": "3e5bfa25",
   "metadata": {},
   "outputs": [],
   "source": [
    "#load the paths and labels in differnt variables\n",
    "directory = \"10000/10000\"\n",
    "filepaths,labels = image_files(directory)"
   ]
  },
  {
   "cell_type": "code",
   "execution_count": 19,
   "id": "bfc93913",
   "metadata": {},
   "outputs": [
    {
     "name": "stderr",
     "output_type": "stream",
     "text": [
      "100%|██████████| 10000/10000 [01:02<00:00, 159.10it/s]\n"
     ]
    }
   ],
   "source": [
    "#load the 70K images\n",
    "images = load_images(filepaths)"
   ]
  },
  {
   "cell_type": "code",
   "execution_count": 20,
   "id": "59cfe73e",
   "metadata": {},
   "outputs": [],
   "source": [
    "y = to_categorical(labels,num_classes=10)"
   ]
  },
  {
   "cell_type": "code",
   "execution_count": 47,
   "id": "c97f0a25",
   "metadata": {},
   "outputs": [
    {
     "name": "stdout",
     "output_type": "stream",
     "text": [
      "(8000, 244, 244, 3)\n",
      "(8000, 10)\n",
      "(2000, 244, 244, 3)\n",
      "(2000, 10)\n"
     ]
    }
   ],
   "source": [
    "#Train and test the images\n",
    "\n",
    "X_train, X_test, y_train, y_test = train_test_split(images, y, random_state=42, test_size=0.2)\n",
    "\n",
    "print(X_train.shape)\n",
    "print(y_train.shape)\n",
    "print(X_test.shape)\n",
    "print(y_test.shape)\n"
   ]
  },
  {
   "cell_type": "code",
   "execution_count": 22,
   "id": "66ae556b",
   "metadata": {
    "scrolled": true
   },
   "outputs": [
    {
     "data": {
      "text/plain": [
       "array([[[0.6       , 0.5921569 , 0.4       ],\n",
       "        [0.6       , 0.5921569 , 0.4       ],\n",
       "        [0.6       , 0.5921569 , 0.4       ],\n",
       "        ...,\n",
       "        [0.58431375, 0.5647059 , 0.41568628],\n",
       "        [0.58431375, 0.5647059 , 0.41568628],\n",
       "        [0.58431375, 0.5647059 , 0.41568628]],\n",
       "\n",
       "       [[0.6       , 0.5921569 , 0.4       ],\n",
       "        [0.6       , 0.5921569 , 0.4       ],\n",
       "        [0.6       , 0.5921569 , 0.4       ],\n",
       "        ...,\n",
       "        [0.58431375, 0.5647059 , 0.41568628],\n",
       "        [0.58431375, 0.5647059 , 0.41568628],\n",
       "        [0.58431375, 0.5647059 , 0.41568628]],\n",
       "\n",
       "       [[0.6       , 0.5921569 , 0.4       ],\n",
       "        [0.6       , 0.5921569 , 0.4       ],\n",
       "        [0.6       , 0.5921569 , 0.4       ],\n",
       "        ...,\n",
       "        [0.58431375, 0.5647059 , 0.41568628],\n",
       "        [0.58431375, 0.5647059 , 0.41568628],\n",
       "        [0.58431375, 0.5647059 , 0.41568628]],\n",
       "\n",
       "       ...,\n",
       "\n",
       "       [[0.6       , 0.57254905, 0.40784314],\n",
       "        [0.6       , 0.57254905, 0.40784314],\n",
       "        [0.6       , 0.57254905, 0.40784314],\n",
       "        ...,\n",
       "        [0.59607846, 0.5647059 , 0.42352942],\n",
       "        [0.59607846, 0.5647059 , 0.42352942],\n",
       "        [0.59607846, 0.5647059 , 0.42352942]],\n",
       "\n",
       "       [[0.6       , 0.57254905, 0.40784314],\n",
       "        [0.6       , 0.57254905, 0.40784314],\n",
       "        [0.6       , 0.57254905, 0.40784314],\n",
       "        ...,\n",
       "        [0.59607846, 0.5647059 , 0.42352942],\n",
       "        [0.59607846, 0.5647059 , 0.42352942],\n",
       "        [0.59607846, 0.5647059 , 0.42352942]],\n",
       "\n",
       "       [[0.6       , 0.57254905, 0.40784314],\n",
       "        [0.6       , 0.57254905, 0.40784314],\n",
       "        [0.6       , 0.57254905, 0.40784314],\n",
       "        ...,\n",
       "        [0.59607846, 0.5647059 , 0.42352942],\n",
       "        [0.59607846, 0.5647059 , 0.42352942],\n",
       "        [0.59607846, 0.5647059 , 0.42352942]]], dtype=float32)"
      ]
     },
     "execution_count": 22,
     "metadata": {},
     "output_type": "execute_result"
    }
   ],
   "source": [
    "X_train[0]"
   ]
  },
  {
   "cell_type": "code",
   "execution_count": 45,
   "id": "b17ca2aa",
   "metadata": {},
   "outputs": [
    {
     "name": "stdout",
     "output_type": "stream",
     "text": [
      "9\n"
     ]
    },
    {
     "data": {
      "image/png": "[encoded data removed]",
      "text/plain": [
       "<Figure size 432x288 with 1 Axes>"
      ]
     },
     "metadata": {
      "needs_background": "light"
     },
     "output_type": "display_data"
    }
   ],
   "source": [
    "plt.imshow(X_train[0])\n",
    "print(np.argmax(y_train[0]))"
   ]
  },
  {
   "cell_type": "code",
   "execution_count": 74,
   "id": "0cdcb917",
   "metadata": {},
   "outputs": [],
   "source": [
    "import tensorflow.keras as K"
   ]
  },
  {
   "cell_type": "code",
   "execution_count": 80,
   "id": "95c30f49",
   "metadata": {},
   "outputs": [],
   "source": [
    "res_model=K.applications.ResNet50(include_top=False,weights='imagenet',input_tensor=K.Input(shape=(244,244,3)))"
   ]
  },
  {
   "cell_type": "code",
   "execution_count": 81,
   "id": "54340978",
   "metadata": {},
   "outputs": [],
   "source": [
    "for layer in res_model.layers[:143]:\n",
    "    layers.trainable=False"
   ]
  },
  {
   "cell_type": "code",
   "execution_count": 82,
   "id": "e7ee321b",
   "metadata": {},
   "outputs": [
    {
     "name": "stdout",
     "output_type": "stream",
     "text": [
      "0 input_7 - True\n",
      "1 conv1_pad - True\n",
      "2 conv1_conv - True\n",
      "3 conv1_bn - True\n",
      "4 conv1_relu - True\n",
      "5 pool1_pad - True\n",
      "6 pool1_pool - True\n",
      "7 conv2_block1_1_conv - True\n",
      "8 conv2_block1_1_bn - True\n",
      "9 conv2_block1_1_relu - True\n",
      "10 conv2_block1_2_conv - True\n",
      "11 conv2_block1_2_bn - True\n",
      "12 conv2_block1_2_relu - True\n",
      "13 conv2_block1_0_conv - True\n",
      "14 conv2_block1_3_conv - True\n",
      "15 conv2_block1_0_bn - True\n",
      "16 conv2_block1_3_bn - True\n",
      "17 conv2_block1_add - True\n",
      "18 conv2_block1_out - True\n",
      "19 conv2_block2_1_conv - True\n",
      "20 conv2_block2_1_bn - True\n",
      "21 conv2_block2_1_relu - True\n",
      "22 conv2_block2_2_conv - True\n",
      "23 conv2_block2_2_bn - True\n",
      "24 conv2_block2_2_relu - True\n",
      "25 conv2_block2_3_conv - True\n",
      "26 conv2_block2_3_bn - True\n",
      "27 conv2_block2_add - True\n",
      "28 conv2_block2_out - True\n",
      "29 conv2_block3_1_conv - True\n",
      "30 conv2_block3_1_bn - True\n",
      "31 conv2_block3_1_relu - True\n",
      "32 conv2_block3_2_conv - True\n",
      "33 conv2_block3_2_bn - True\n",
      "34 conv2_block3_2_relu - True\n",
      "35 conv2_block3_3_conv - True\n",
      "36 conv2_block3_3_bn - True\n",
      "37 conv2_block3_add - True\n",
      "38 conv2_block3_out - True\n",
      "39 conv3_block1_1_conv - True\n",
      "40 conv3_block1_1_bn - True\n",
      "41 conv3_block1_1_relu - True\n",
      "42 conv3_block1_2_conv - True\n",
      "43 conv3_block1_2_bn - True\n",
      "44 conv3_block1_2_relu - True\n",
      "45 conv3_block1_0_conv - True\n",
      "46 conv3_block1_3_conv - True\n",
      "47 conv3_block1_0_bn - True\n",
      "48 conv3_block1_3_bn - True\n",
      "49 conv3_block1_add - True\n",
      "50 conv3_block1_out - True\n",
      "51 conv3_block2_1_conv - True\n",
      "52 conv3_block2_1_bn - True\n",
      "53 conv3_block2_1_relu - True\n",
      "54 conv3_block2_2_conv - True\n",
      "55 conv3_block2_2_bn - True\n",
      "56 conv3_block2_2_relu - True\n",
      "57 conv3_block2_3_conv - True\n",
      "58 conv3_block2_3_bn - True\n",
      "59 conv3_block2_add - True\n",
      "60 conv3_block2_out - True\n",
      "61 conv3_block3_1_conv - True\n",
      "62 conv3_block3_1_bn - True\n",
      "63 conv3_block3_1_relu - True\n",
      "64 conv3_block3_2_conv - True\n",
      "65 conv3_block3_2_bn - True\n",
      "66 conv3_block3_2_relu - True\n",
      "67 conv3_block3_3_conv - True\n",
      "68 conv3_block3_3_bn - True\n",
      "69 conv3_block3_add - True\n",
      "70 conv3_block3_out - True\n",
      "71 conv3_block4_1_conv - True\n",
      "72 conv3_block4_1_bn - True\n",
      "73 conv3_block4_1_relu - True\n",
      "74 conv3_block4_2_conv - True\n",
      "75 conv3_block4_2_bn - True\n",
      "76 conv3_block4_2_relu - True\n",
      "77 conv3_block4_3_conv - True\n",
      "78 conv3_block4_3_bn - True\n",
      "79 conv3_block4_add - True\n",
      "80 conv3_block4_out - True\n",
      "81 conv4_block1_1_conv - True\n",
      "82 conv4_block1_1_bn - True\n",
      "83 conv4_block1_1_relu - True\n",
      "84 conv4_block1_2_conv - True\n",
      "85 conv4_block1_2_bn - True\n",
      "86 conv4_block1_2_relu - True\n",
      "87 conv4_block1_0_conv - True\n",
      "88 conv4_block1_3_conv - True\n",
      "89 conv4_block1_0_bn - True\n",
      "90 conv4_block1_3_bn - True\n",
      "91 conv4_block1_add - True\n",
      "92 conv4_block1_out - True\n",
      "93 conv4_block2_1_conv - True\n",
      "94 conv4_block2_1_bn - True\n",
      "95 conv4_block2_1_relu - True\n",
      "96 conv4_block2_2_conv - True\n",
      "97 conv4_block2_2_bn - True\n",
      "98 conv4_block2_2_relu - True\n",
      "99 conv4_block2_3_conv - True\n",
      "100 conv4_block2_3_bn - True\n",
      "101 conv4_block2_add - True\n",
      "102 conv4_block2_out - True\n",
      "103 conv4_block3_1_conv - True\n",
      "104 conv4_block3_1_bn - True\n",
      "105 conv4_block3_1_relu - True\n",
      "106 conv4_block3_2_conv - True\n",
      "107 conv4_block3_2_bn - True\n",
      "108 conv4_block3_2_relu - True\n",
      "109 conv4_block3_3_conv - True\n",
      "110 conv4_block3_3_bn - True\n",
      "111 conv4_block3_add - True\n",
      "112 conv4_block3_out - True\n",
      "113 conv4_block4_1_conv - True\n",
      "114 conv4_block4_1_bn - True\n",
      "115 conv4_block4_1_relu - True\n",
      "116 conv4_block4_2_conv - True\n",
      "117 conv4_block4_2_bn - True\n",
      "118 conv4_block4_2_relu - True\n",
      "119 conv4_block4_3_conv - True\n",
      "120 conv4_block4_3_bn - True\n",
      "121 conv4_block4_add - True\n",
      "122 conv4_block4_out - True\n",
      "123 conv4_block5_1_conv - True\n",
      "124 conv4_block5_1_bn - True\n",
      "125 conv4_block5_1_relu - True\n",
      "126 conv4_block5_2_conv - True\n",
      "127 conv4_block5_2_bn - True\n",
      "128 conv4_block5_2_relu - True\n",
      "129 conv4_block5_3_conv - True\n",
      "130 conv4_block5_3_bn - True\n",
      "131 conv4_block5_add - True\n",
      "132 conv4_block5_out - True\n",
      "133 conv4_block6_1_conv - True\n",
      "134 conv4_block6_1_bn - True\n",
      "135 conv4_block6_1_relu - True\n",
      "136 conv4_block6_2_conv - True\n",
      "137 conv4_block6_2_bn - True\n",
      "138 conv4_block6_2_relu - True\n",
      "139 conv4_block6_3_conv - True\n",
      "140 conv4_block6_3_bn - True\n",
      "141 conv4_block6_add - True\n",
      "142 conv4_block6_out - True\n",
      "143 conv5_block1_1_conv - True\n",
      "144 conv5_block1_1_bn - True\n",
      "145 conv5_block1_1_relu - True\n",
      "146 conv5_block1_2_conv - True\n",
      "147 conv5_block1_2_bn - True\n",
      "148 conv5_block1_2_relu - True\n",
      "149 conv5_block1_0_conv - True\n",
      "150 conv5_block1_3_conv - True\n",
      "151 conv5_block1_0_bn - True\n",
      "152 conv5_block1_3_bn - True\n",
      "153 conv5_block1_add - True\n",
      "154 conv5_block1_out - True\n",
      "155 conv5_block2_1_conv - True\n",
      "156 conv5_block2_1_bn - True\n",
      "157 conv5_block2_1_relu - True\n",
      "158 conv5_block2_2_conv - True\n",
      "159 conv5_block2_2_bn - True\n",
      "160 conv5_block2_2_relu - True\n",
      "161 conv5_block2_3_conv - True\n",
      "162 conv5_block2_3_bn - True\n",
      "163 conv5_block2_add - True\n",
      "164 conv5_block2_out - True\n",
      "165 conv5_block3_1_conv - True\n",
      "166 conv5_block3_1_bn - True\n",
      "167 conv5_block3_1_relu - True\n",
      "168 conv5_block3_2_conv - True\n",
      "169 conv5_block3_2_bn - True\n",
      "170 conv5_block3_2_relu - True\n",
      "171 conv5_block3_3_conv - True\n",
      "172 conv5_block3_3_bn - True\n",
      "173 conv5_block3_add - True\n",
      "174 conv5_block3_out - True\n"
     ]
    }
   ],
   "source": [
    "for i,layer in enumerate(res_model.layers):\n",
    "    print(i,layer.name,'-',layer.trainable)"
   ]
  },
  {
   "cell_type": "code",
   "execution_count": 83,
   "id": "e2137156",
   "metadata": {},
   "outputs": [],
   "source": [
    "model = K.models.Sequential()\n",
    "model.add(res_model)\n",
    "model.add(K.layers.Flatten())\n",
    "model.add(K.layers.Dense(10, activation='softmax'))"
   ]
  },
  {
   "cell_type": "code",
   "execution_count": 84,
   "id": "9960fcef",
   "metadata": {},
   "outputs": [],
   "source": [
    "model.compile(optimizer='adam', loss='categorical_crossentropy', metrics=['accuracy'])"
   ]
  },
  {
   "cell_type": "code",
   "execution_count": 87,
   "id": "4967904a",
   "metadata": {},
   "outputs": [
    {
     "name": "stdout",
     "output_type": "stream",
     "text": [
      "Epoch 1/5\n",
      "250/250 [==============================] - 2766s 11s/step - loss: 0.1525 - accuracy: 0.9555 - val_loss: 2.4126 - val_accuracy: 0.1990\n",
      "Epoch 2/5\n",
      "250/250 [==============================] - 2869s 11s/step - loss: 0.0982 - accuracy: 0.9694 - val_loss: 0.8592 - val_accuracy: 0.7475\n",
      "Epoch 3/5\n",
      "250/250 [==============================] - 3401s 14s/step - loss: 0.0503 - accuracy: 0.9836 - val_loss: 0.1477 - val_accuracy: 0.9540\n",
      "Epoch 4/5\n",
      "250/250 [==============================] - 2177s 9s/step - loss: 0.0261 - accuracy: 0.9909 - val_loss: 0.1609 - val_accuracy: 0.9605\n",
      "Epoch 5/5\n",
      "250/250 [==============================] - 2191s 9s/step - loss: 0.0634 - accuracy: 0.9829 - val_loss: 0.6130 - val_accuracy: 0.8840\n"
     ]
    }
   ],
   "source": [
    "h = model.fit(\n",
    "    X_train,\n",
    "    y_train,\n",
    "    epochs=5,\n",
    "    batch_size=32,\n",
    "    validation_data=(X_test,y_test),\n",
    "    verbose=1,\n",
    ")"
   ]
  },
  {
   "cell_type": "code",
   "execution_count": 88,
   "id": "6c44f6ac",
   "metadata": {},
   "outputs": [],
   "source": [
    "model.save(\"digit.h5\")"
   ]
  },
  {
   "cell_type": "code",
   "execution_count": 93,
   "id": "746c8c78",
   "metadata": {},
   "outputs": [
    {
     "name": "stdout",
     "output_type": "stream",
     "text": [
      "63/63 [==============================] - 112s 2s/step\n"
     ]
    }
   ],
   "source": [
    "y=model.predict(X_test)"
   ]
  },
  {
   "cell_type": "code",
   "execution_count": 95,
   "id": "db708dcc",
   "metadata": {},
   "outputs": [
    {
     "name": "stdout",
     "output_type": "stream",
     "text": [
      "6\n"
     ]
    },
    {
     "data": {
      "image/png": "[encoded data removed]",
      "text/plain": [
       "<Figure size 432x288 with 1 Axes>"
      ]
     },
     "metadata": {
      "needs_background": "light"
     },
     "output_type": "display_data"
    }
   ],
   "source": [
    "plt.imshow(X_test[0])\n",
    "print(np.argmax(y[0]))"
   ]
  },
  {
   "cell_type": "code",
   "execution_count": null,
   "id": "986d3826",
   "metadata": {},
   "outputs": [],
   "source": []
  }
 ],
 "metadata": {
  "kernelspec": {
   "display_name": "Python 3 (ipykernel)",
   "language": "python",
   "name": "python3"
  },
  "language_info": {
   "codemirror_mode": {
    "name": "ipython",
    "version": 3
   },
   "file_extension": ".py",
   "mimetype": "text/x-python",
   "name": "python",
   "nbconvert_exporter": "python",
   "pygments_lexer": "ipython3",
   "version": "3.9.7"
  }
 },
 "nbformat": 4,
 "nbformat_minor": 5
}
